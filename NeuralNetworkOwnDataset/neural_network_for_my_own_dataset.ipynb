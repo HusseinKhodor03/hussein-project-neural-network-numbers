{
  "nbformat": 4,
  "nbformat_minor": 0,
  "metadata": {
    "colab": {
      "provenance": []
    },
    "kernelspec": {
      "name": "python3",
      "display_name": "Python 3"
    },
    "language_info": {
      "name": "python"
    }
  },
  "cells": [
    {
      "cell_type": "markdown",
      "source": [
        "**-- THIS IS THE ACTUAL PROGRAM --**"
      ],
      "metadata": {
        "id": "o1jS3crS9wMZ"
      }
    },
    {
      "cell_type": "code",
      "execution_count": null,
      "metadata": {
        "id": "WU38-JSFKjeg"
      },
      "outputs": [],
      "source": [
        "# Import the necessary libraries\n",
        "import numpy as np\n",
        "import matplotlib.pyplot as plt\n",
        "import scipy as sp\n",
        "import glob\n",
        "import imageio.v3 as iio"
      ]
    },
    {
      "cell_type": "code",
      "source": [
        "class NeuralNetwork:\n",
        "  def __init__(self, input_nodes, hidden_nodes, output_nodes, learning_rate):\n",
        "    # Initialize the neural network with the number of nodes in each layer and the learning rate\n",
        "    self.input_nodes = input_nodes\n",
        "    self.hidden_nodes = hidden_nodes\n",
        "    self.output_nodes = output_nodes\n",
        "    self.learning_rate = learning_rate\n",
        "\n",
        "    # Initialize weights with a normal distribution\n",
        "    self.weights_input_to_hidden = np.random.normal(0.0, pow(self.input_nodes, -0.5),\n",
        "                                                 (self.hidden_nodes, self.input_nodes))\n",
        "    self.weights_hidden_to_output = np.random.normal(0.0, pow(self.hidden_nodes, -0.5),\n",
        "                                                     (self.output_nodes, self.hidden_nodes))\n",
        "\n",
        "    # Define the sigmoid activation function\n",
        "    self.activation_function = lambda x: sp.special.expit(x)\n",
        "\n",
        "  def train(self, inputs_list, targets_list):\n",
        "    # Convert inputs list to 2D array and transpose\n",
        "    inputs = np.array(inputs_list, ndmin=2).transpose()\n",
        "    targets = np.array(targets_list, ndmin=2).transpose()\n",
        "\n",
        "    # Calculate signals into hidden layer\n",
        "    hidden_inputs = np.dot(self.weights_input_to_hidden, inputs)\n",
        "    hidden_outputs = self.activation_function(hidden_inputs)\n",
        "\n",
        "    # Calculate signals into final output layer\n",
        "    final_inputs = np.dot(self.weights_hidden_to_output, hidden_outputs)\n",
        "    final_outputs = self.activation_function(final_inputs)\n",
        "\n",
        "    # Output layer error is the difference between target and actual\n",
        "    output_errors = targets - final_outputs\n",
        "\n",
        "    # Hidden layer error is the output_errors, split by the weights, recombined at hidden nodes\n",
        "    hidden_errors = np.dot(self.weights_hidden_to_output.transpose(),\n",
        "                           output_errors)\n",
        "\n",
        "    # Update the weights for the links between the hidden and output layers\n",
        "    self.weights_hidden_to_output += self.learning_rate * np.dot((output_errors * final_outputs * (1.0 - final_outputs)), hidden_outputs.transpose())\n",
        "\n",
        "    # Update the weights for the links between the input and hidden layers\n",
        "    self.weights_input_to_hidden += self.learning_rate * np.dot((hidden_errors * hidden_outputs * (1.0 - hidden_outputs)), inputs.transpose())\n",
        "\n",
        "  def query(self, inputs_list):\n",
        "    # Convert inputs list into 2D array and transpose\n",
        "    inputs = np.array(inputs_list, ndmin=2).transpose()\n",
        "\n",
        "    # Calculate signals into hidden layer\n",
        "    hidden_inputs = np.dot(self.weights_input_to_hidden, inputs)\n",
        "    hidden_outputs = self.activation_function(hidden_inputs)\n",
        "\n",
        "    # Calculate signals into final output layer\n",
        "    final_inputs = np.dot(self.weights_hidden_to_output, hidden_outputs)\n",
        "    final_outputs = self.activation_function(final_inputs)\n",
        "\n",
        "    return final_outputs"
      ],
      "metadata": {
        "id": "p8cUyS9YRCCY"
      },
      "execution_count": 1,
      "outputs": []
    },
    {
      "cell_type": "code",
      "source": [
        "# Set the number of nodes in the input, hidden, and output layers\n",
        "input_nodes = 784\n",
        "hidden_nodes = 200\n",
        "output_nodes = 10\n",
        "\n",
        "# Set the learning rate\n",
        "learning_rate = 0.1\n",
        "\n",
        "# Create an instance of the neural network\n",
        "neural_network = NeuralNetwork(input_nodes, hidden_nodes, output_nodes,\n",
        "                               learning_rate)"
      ],
      "metadata": {
        "id": "DNznI7_TVyyb"
      },
      "execution_count": null,
      "outputs": []
    },
    {
      "cell_type": "code",
      "source": [
        "# Load the training data\n",
        "with open(\"drive/MyDrive/Teuscher Lab - Summer 2024 Internship/Neural Network for my own Dataset/mnist_train.csv\", 'r') as training_data_file:\n",
        "  training_data_list = training_data_file.readlines()\n",
        "\n",
        "# Set the number of training epochs\n",
        "epochs = 1\n",
        "\n",
        "# Train the neural network\n",
        "for epoch in range(epochs):\n",
        "  for record in training_data_list:\n",
        "    all_values = record.split(',')\n",
        "    inputs = (np.asfarray(all_values[1:]) / 255.0 * 0.99) + 0.01\n",
        "    targets = np.zeros(output_nodes) + 0.01\n",
        "    targets[int(all_values[0])] = 0.99\n",
        "    neural_network.train(inputs, targets)"
      ],
      "metadata": {
        "id": "7NaMzJXNOp57"
      },
      "execution_count": null,
      "outputs": []
    },
    {
      "cell_type": "code",
      "source": [
        "# Initialize a list to hold the dataset from our own images\n",
        "our_own_dataset = []\n",
        "\n",
        "# Load and process images from our own dataset\n",
        "for image_file_name in glob.glob(\"drive/MyDrive/Teuscher Lab - Summer 2024 Internship/Neural Network for my own Dataset/my_own_dataset/my_own_?.png\"):\n",
        "  label = int(image_file_name[-5:-4])\n",
        "\n",
        "  image_array = iio.imread(image_file_name, mode='L')\n",
        "  image_data = 255.0 - image_array.reshape(784)\n",
        "  image_data = (image_data / 255.0 * 0.99) + 0.01\n",
        "\n",
        "  record = np.append(label, image_data)\n",
        "  our_own_dataset.append(record)"
      ],
      "metadata": {
        "id": "_NwFl1b5_hA2"
      },
      "execution_count": null,
      "outputs": []
    },
    {
      "cell_type": "code",
      "source": [
        "# Initialize scorecard and counters for correct & incorrect records\n",
        "scorecard = []\n",
        "record_count = 1\n",
        "correct_count = 0\n",
        "incorrect_count = 0\n",
        "\n",
        "# Query the neural network with our own dataset\n",
        "for record in our_own_dataset:\n",
        "  correct_label = record[0]\n",
        "  inputs = record[1:]\n",
        "  outputs = neural_network.query(inputs)\n",
        "  label = np.argmax(outputs)\n",
        "\n",
        "  print(f\"Record #{record_count}:\")\n",
        "  print(f\"Correct Label: {correct_label}\")\n",
        "  print(f\"Neural Network's Answer: {label}\")\n",
        "\n",
        "  if (label == correct_label):\n",
        "    print(\"Match!\\n\")\n",
        "    scorecard.append(1)\n",
        "    correct_count += 1\n",
        "  else:\n",
        "    print(\"No Match!\\n\")\n",
        "    scorecard.append(0)\n",
        "    incorrect_count += 1\n",
        "\n",
        "  record_count += 1\n",
        "\n",
        "# Print the results\n",
        "print(f\"Score for each record (0 = incorrect | 1 = correct): {scorecard}\\n\")\n",
        "print(f\"Number of correct records: {correct_count}\")\n",
        "print(f\"Number of incorrect records: {incorrect_count}\\n\")\n",
        "\n",
        "# Calculate and print the performance\n",
        "scorecard_array = np.asarray(scorecard)\n",
        "print(f\"Performance: {(scorecard_array.sum() / scorecard_array.size) * 100}%\")"
      ],
      "metadata": {
        "colab": {
          "base_uri": "https://localhost:8080/"
        },
        "id": "EuMdG9xmKQgj",
        "outputId": "a261e4c3-b109-4f72-d722-3d02390c8d0c"
      },
      "execution_count": null,
      "outputs": [
        {
          "output_type": "stream",
          "name": "stdout",
          "text": [
            "Record #1:\n",
            "Correct Label: 3.0\n",
            "Neural Network's Answer: 3\n",
            "Match!\n",
            "\n",
            "Record #2:\n",
            "Correct Label: 1.0\n",
            "Neural Network's Answer: 5\n",
            "No Match!\n",
            "\n",
            "Record #3:\n",
            "Correct Label: 7.0\n",
            "Neural Network's Answer: 2\n",
            "No Match!\n",
            "\n",
            "Record #4:\n",
            "Correct Label: 8.0\n",
            "Neural Network's Answer: 8\n",
            "Match!\n",
            "\n",
            "Record #5:\n",
            "Correct Label: 5.0\n",
            "Neural Network's Answer: 5\n",
            "Match!\n",
            "\n",
            "Record #6:\n",
            "Correct Label: 2.0\n",
            "Neural Network's Answer: 2\n",
            "Match!\n",
            "\n",
            "Record #7:\n",
            "Correct Label: 0.0\n",
            "Neural Network's Answer: 0\n",
            "Match!\n",
            "\n",
            "Record #8:\n",
            "Correct Label: 6.0\n",
            "Neural Network's Answer: 8\n",
            "No Match!\n",
            "\n",
            "Record #9:\n",
            "Correct Label: 4.0\n",
            "Neural Network's Answer: 4\n",
            "Match!\n",
            "\n",
            "Record #10:\n",
            "Correct Label: 9.0\n",
            "Neural Network's Answer: 4\n",
            "No Match!\n",
            "\n",
            "Score for each record (0 = incorrect | 1 = correct): [1, 0, 0, 1, 1, 1, 1, 0, 1, 0]\n",
            "\n",
            "Number of correct records: 6\n",
            "Number of incorrect records: 4\n",
            "\n",
            "Performance: 60.0%\n"
          ]
        }
      ]
    },
    {
      "cell_type": "markdown",
      "source": [
        "**-- THESE ARE JUST SOME EXAMPLE IMAGES OF THE CUSTOM HANDWRITTEN NUMBERS MADE FROM GIMP --**"
      ],
      "metadata": {
        "id": "_hZMb-k6JG_R"
      }
    },
    {
      "cell_type": "code",
      "source": [
        "# Display the first image in the dataset as an example\n",
        "image_array = np.asfarray(our_own_dataset[0][1:]).reshape((28, 28))\n",
        "plt.imshow(image_array, cmap='Greys', interpolation='None')"
      ],
      "metadata": {
        "colab": {
          "base_uri": "https://localhost:8080/",
          "height": 447
        },
        "id": "vwXgriq6m5XP",
        "outputId": "398b7713-2b07-460a-a296-3407b224c761"
      },
      "execution_count": null,
      "outputs": [
        {
          "output_type": "execute_result",
          "data": {
            "text/plain": [
              "<matplotlib.image.AxesImage at 0x7ba47c1615d0>"
            ]
          },
          "metadata": {},
          "execution_count": 98
        },
        {
          "output_type": "display_data",
          "data": {
            "text/plain": [
              "<Figure size 640x480 with 1 Axes>"
            ],
            "image/png": "[encoded data removed]"
          },
          "metadata": {}
        }
      ]
    },
    {
      "cell_type": "code",
      "source": [
        "# Display the second image in the dataset as an example\n",
        "image_array = np.asfarray(our_own_dataset[1][1:]).reshape((28, 28))\n",
        "plt.imshow(image_array, cmap='Greys', interpolation='None')"
      ],
      "metadata": {
        "colab": {
          "base_uri": "https://localhost:8080/",
          "height": 447
        },
        "id": "is60Uy62tyvY",
        "outputId": "50162ffc-2dd6-4b31-da16-24f22b64fc73"
      },
      "execution_count": null,
      "outputs": [
        {
          "output_type": "execute_result",
          "data": {
            "text/plain": [
              "<matplotlib.image.AxesImage at 0x7ba47c1e5930>"
            ]
          },
          "metadata": {},
          "execution_count": 99
        },
        {
          "output_type": "display_data",
          "data": {
            "text/plain": [
              "<Figure size 640x480 with 1 Axes>"
            ],
            "image/png": "[encoded data removed]"
          },
          "metadata": {}
        }
      ]
    }
  ]
}